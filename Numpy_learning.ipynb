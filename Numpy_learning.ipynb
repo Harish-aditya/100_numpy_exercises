{
  "nbformat": 4,
  "nbformat_minor": 0,
  "metadata": {
    "colab": {
      "provenance": [],
      "include_colab_link": true
    },
    "kernelspec": {
      "name": "python3",
      "display_name": "Python 3"
    },
    "language_info": {
      "name": "python"
    }
  },
  "cells": [
    {
      "cell_type": "markdown",
      "metadata": {
        "id": "view-in-github",
        "colab_type": "text"
      },
      "source": [
        "<a href=\"https://colab.research.google.com/github/Harish-aditya/100_numpy_exercises/blob/main/Numpy_learning.ipynb\" target=\"_parent\"><img src=\"https://colab.research.google.com/assets/colab-badge.svg\" alt=\"Open In Colab\"/></a>"
      ]
    },
    {
      "cell_type": "code",
      "execution_count": 1,
      "metadata": {
        "id": "esP7pXP-lLbS"
      },
      "outputs": [],
      "source": [
        "import numpy as np"
      ]
    },
    {
      "cell_type": "code",
      "source": [
        "a = np.array([1,2], dtype = 'int16')\n",
        "a"
      ],
      "metadata": {
        "colab": {
          "base_uri": "https://localhost:8080/"
        },
        "id": "5uYd3XPylmxw",
        "outputId": "7a67c531-e4de-449f-b562-8426cb3252c1"
      },
      "execution_count": 2,
      "outputs": [
        {
          "output_type": "execute_result",
          "data": {
            "text/plain": [
              "array([1, 2], dtype=int16)"
            ]
          },
          "metadata": {},
          "execution_count": 2
        }
      ]
    },
    {
      "cell_type": "code",
      "source": [
        "a2 = np.array([[1,2],[3,4]],dtype = 'int32')\n",
        "a2"
      ],
      "metadata": {
        "colab": {
          "base_uri": "https://localhost:8080/"
        },
        "id": "kqFxdpxalqkw",
        "outputId": "ea8cdbad-a7fa-452f-a40f-b1b26a3538cc"
      },
      "execution_count": 3,
      "outputs": [
        {
          "output_type": "execute_result",
          "data": {
            "text/plain": [
              "array([[1, 2],\n",
              "       [3, 4]], dtype=int32)"
            ]
          },
          "metadata": {},
          "execution_count": 3
        }
      ]
    },
    {
      "cell_type": "code",
      "source": [
        "a3 = np.array([[[1,2],[3,4],[5,6]]],dtype = 'int64')\n",
        "a3"
      ],
      "metadata": {
        "colab": {
          "base_uri": "https://localhost:8080/"
        },
        "id": "dlncXOnKmV3q",
        "outputId": "b8523835-72a1-4ae2-fc8d-d9eb9efe8fe4"
      },
      "execution_count": 4,
      "outputs": [
        {
          "output_type": "execute_result",
          "data": {
            "text/plain": [
              "array([[[1, 2],\n",
              "        [3, 4],\n",
              "        [5, 6]]])"
            ]
          },
          "metadata": {},
          "execution_count": 4
        }
      ]
    },
    {
      "cell_type": "code",
      "source": [
        "# get dimension\n",
        "print(a.ndim,a2.ndim,a3.ndim)"
      ],
      "metadata": {
        "colab": {
          "base_uri": "https://localhost:8080/"
        },
        "id": "qJrho2jBmkqw",
        "outputId": "2c3e3e0f-88aa-49d2-b794-df9c4204a739"
      },
      "execution_count": 5,
      "outputs": [
        {
          "output_type": "stream",
          "name": "stdout",
          "text": [
            "1 2 3\n"
          ]
        }
      ]
    },
    {
      "cell_type": "code",
      "source": [
        "# get shape\n",
        "print(a.shape,a2.shape,a3.shape)"
      ],
      "metadata": {
        "colab": {
          "base_uri": "https://localhost:8080/"
        },
        "id": "0zqu-NEtm80J",
        "outputId": "9c5e46f2-cdd3-4da9-c0ba-859f82879ed1"
      },
      "execution_count": 6,
      "outputs": [
        {
          "output_type": "stream",
          "name": "stdout",
          "text": [
            "(2,) (2, 2) (1, 3, 2)\n"
          ]
        }
      ]
    },
    {
      "cell_type": "code",
      "source": [
        "# get dtype\n",
        "print(a.dtype,a2.dtype,a3.dtype)"
      ],
      "metadata": {
        "colab": {
          "base_uri": "https://localhost:8080/"
        },
        "id": "GlunIpG8nXEp",
        "outputId": "765ad475-2823-42e6-ac51-37717d9f3747"
      },
      "execution_count": 7,
      "outputs": [
        {
          "output_type": "stream",
          "name": "stdout",
          "text": [
            "int16 int32 int64\n"
          ]
        }
      ]
    },
    {
      "cell_type": "code",
      "source": [
        "# get itemsize\n",
        "print(a.itemsize,a2.itemsize,a3.itemsize)"
      ],
      "metadata": {
        "colab": {
          "base_uri": "https://localhost:8080/"
        },
        "id": "oIAUOsmnn5RB",
        "outputId": "0ba7d280-4fb4-47dd-8762-50ba0f4d6dff"
      },
      "execution_count": 8,
      "outputs": [
        {
          "output_type": "stream",
          "name": "stdout",
          "text": [
            "2 4 8\n"
          ]
        }
      ]
    },
    {
      "cell_type": "code",
      "source": [
        "# get total size\n",
        "print(a.size,a2.size,a3.size)"
      ],
      "metadata": {
        "colab": {
          "base_uri": "https://localhost:8080/"
        },
        "id": "fPOlZoOCoJC3",
        "outputId": "56f92b95-15a4-4ff0-d83d-3adbac4665ce"
      },
      "execution_count": 9,
      "outputs": [
        {
          "output_type": "stream",
          "name": "stdout",
          "text": [
            "2 4 6\n"
          ]
        }
      ]
    },
    {
      "cell_type": "code",
      "source": [
        "# get number of bytes (itemsize*size)\n",
        "print(a.nbytes,a2.nbytes,a3.nbytes)"
      ],
      "metadata": {
        "colab": {
          "base_uri": "https://localhost:8080/"
        },
        "id": "CNJtb-ZspPp_",
        "outputId": "43a30c5f-e068-4eca-f54a-678b54a938a2"
      },
      "execution_count": 10,
      "outputs": [
        {
          "output_type": "stream",
          "name": "stdout",
          "text": [
            "4 16 48\n"
          ]
        }
      ]
    },
    {
      "cell_type": "markdown",
      "source": [
        "Acessing, changing specific rows, elements, columns. etc.,"
      ],
      "metadata": {
        "id": "uzfLpVeSp15H"
      }
    },
    {
      "cell_type": "code",
      "source": [
        "b = np.array([[1,2,3,4,5,6,7],[8,9,10,11,12,13,14]])\n",
        "b"
      ],
      "metadata": {
        "colab": {
          "base_uri": "https://localhost:8080/"
        },
        "id": "VnrYxPnJq3dA",
        "outputId": "2eb66a0c-1af5-4fb9-ab91-e2da0336e0e0"
      },
      "execution_count": 11,
      "outputs": [
        {
          "output_type": "execute_result",
          "data": {
            "text/plain": [
              "array([[ 1,  2,  3,  4,  5,  6,  7],\n",
              "       [ 8,  9, 10, 11, 12, 13, 14]])"
            ]
          },
          "metadata": {},
          "execution_count": 11
        }
      ]
    },
    {
      "cell_type": "code",
      "source": [
        "# get a specific element [r,c]\n",
        "b[1,5]"
      ],
      "metadata": {
        "colab": {
          "base_uri": "https://localhost:8080/"
        },
        "id": "QGf6kD7qr6If",
        "outputId": "ad073b01-bb9d-4e9f-b84c-9babd7f6e490"
      },
      "execution_count": 12,
      "outputs": [
        {
          "output_type": "execute_result",
          "data": {
            "text/plain": [
              "13"
            ]
          },
          "metadata": {},
          "execution_count": 12
        }
      ]
    },
    {
      "cell_type": "code",
      "source": [
        "# get a specific row\n",
        "b[1,:]"
      ],
      "metadata": {
        "colab": {
          "base_uri": "https://localhost:8080/"
        },
        "id": "-i-1DA1HsQ_N",
        "outputId": "b19a1f26-8127-438a-d6b5-8200986cdbcc"
      },
      "execution_count": 13,
      "outputs": [
        {
          "output_type": "execute_result",
          "data": {
            "text/plain": [
              "array([ 8,  9, 10, 11, 12, 13, 14])"
            ]
          },
          "metadata": {},
          "execution_count": 13
        }
      ]
    },
    {
      "cell_type": "code",
      "source": [
        "# get a specific column\n",
        "b[:,3]"
      ],
      "metadata": {
        "colab": {
          "base_uri": "https://localhost:8080/"
        },
        "id": "dCzfK36Hsdpt",
        "outputId": "5f51bd90-060f-411e-e27b-807032f107ff"
      },
      "execution_count": 14,
      "outputs": [
        {
          "output_type": "execute_result",
          "data": {
            "text/plain": [
              "array([ 4, 11])"
            ]
          },
          "metadata": {},
          "execution_count": 14
        }
      ]
    },
    {
      "cell_type": "code",
      "source": [
        "#skipping index [start:end:step]\n",
        "b[0,1:6:3]"
      ],
      "metadata": {
        "colab": {
          "base_uri": "https://localhost:8080/"
        },
        "id": "FWdnlaTms38d",
        "outputId": "6892d16e-27a7-4a02-8d46-1af50917a9df"
      },
      "execution_count": 15,
      "outputs": [
        {
          "output_type": "execute_result",
          "data": {
            "text/plain": [
              "array([2, 5])"
            ]
          },
          "metadata": {},
          "execution_count": 15
        }
      ]
    },
    {
      "cell_type": "code",
      "source": [
        "#replacing a specific value\n",
        "b[1,5] = 20\n",
        "print(b)"
      ],
      "metadata": {
        "colab": {
          "base_uri": "https://localhost:8080/"
        },
        "id": "7A1bWKrxtnrt",
        "outputId": "7169efaa-9d30-4a53-ff21-4db3886aa992"
      },
      "execution_count": 16,
      "outputs": [
        {
          "output_type": "stream",
          "name": "stdout",
          "text": [
            "[[ 1  2  3  4  5  6  7]\n",
            " [ 8  9 10 11 12 20 14]]\n"
          ]
        }
      ]
    },
    {
      "cell_type": "code",
      "source": [
        "# replacing a group of values\n",
        "b[0,4:6]=[1,2]\n",
        "print(b)"
      ],
      "metadata": {
        "colab": {
          "base_uri": "https://localhost:8080/"
        },
        "id": "S27Bvrkrt0Is",
        "outputId": "f2063040-6fcc-4965-98b4-ce3e6e0e7e26"
      },
      "execution_count": 17,
      "outputs": [
        {
          "output_type": "stream",
          "name": "stdout",
          "text": [
            "[[ 1  2  3  4  1  2  7]\n",
            " [ 8  9 10 11 12 20 14]]\n"
          ]
        }
      ]
    },
    {
      "cell_type": "code",
      "source": [
        "a3"
      ],
      "metadata": {
        "colab": {
          "base_uri": "https://localhost:8080/"
        },
        "id": "PqZZgO4xKi8n",
        "outputId": "42ac196f-5d84-4936-d8ec-beb2140ab4f6"
      },
      "execution_count": 18,
      "outputs": [
        {
          "output_type": "execute_result",
          "data": {
            "text/plain": [
              "array([[[1, 2],\n",
              "        [3, 4],\n",
              "        [5, 6]]])"
            ]
          },
          "metadata": {},
          "execution_count": 18
        }
      ]
    },
    {
      "cell_type": "code",
      "source": [
        "# 3d array\n",
        "a3.shape"
      ],
      "metadata": {
        "colab": {
          "base_uri": "https://localhost:8080/"
        },
        "id": "sGiCOECXJr9w",
        "outputId": "4d1a39b2-b2d8-4525-de15-cb3462794c92"
      },
      "execution_count": 19,
      "outputs": [
        {
          "output_type": "execute_result",
          "data": {
            "text/plain": [
              "(1, 3, 2)"
            ]
          },
          "metadata": {},
          "execution_count": 19
        }
      ]
    },
    {
      "cell_type": "code",
      "source": [
        "# get specific element (work outside in)\n",
        "a3[0,2,0]"
      ],
      "metadata": {
        "colab": {
          "base_uri": "https://localhost:8080/"
        },
        "id": "13JnOl1DKZt4",
        "outputId": "90a906e0-3bb3-4ad3-d00c-190a23e7ddff"
      },
      "execution_count": 20,
      "outputs": [
        {
          "output_type": "execute_result",
          "data": {
            "text/plain": [
              "5"
            ]
          },
          "metadata": {},
          "execution_count": 20
        }
      ]
    },
    {
      "cell_type": "markdown",
      "source": [
        "Initialzing different types of array"
      ],
      "metadata": {
        "id": "IDAmV-M8Lf35"
      }
    },
    {
      "cell_type": "code",
      "source": [
        "# all zeros matrix\n",
        "c = np.zeros(3)\n",
        "c1 = np.zeros([2,2])\n",
        "c2 = np.zeros([3,3,3])"
      ],
      "metadata": {
        "id": "rT_5uqUzLTcn"
      },
      "execution_count": 21,
      "outputs": []
    },
    {
      "cell_type": "code",
      "source": [
        "print(c,c1,c2, sep = '\\n')"
      ],
      "metadata": {
        "id": "7_LcPzjiMBcv",
        "outputId": "92926fc2-e5f8-4e82-a252-13f61e0bec38",
        "colab": {
          "base_uri": "https://localhost:8080/"
        }
      },
      "execution_count": 22,
      "outputs": [
        {
          "output_type": "stream",
          "name": "stdout",
          "text": [
            "[0. 0. 0.]\n",
            "[[0. 0.]\n",
            " [0. 0.]]\n",
            "[[[0. 0. 0.]\n",
            "  [0. 0. 0.]\n",
            "  [0. 0. 0.]]\n",
            "\n",
            " [[0. 0. 0.]\n",
            "  [0. 0. 0.]\n",
            "  [0. 0. 0.]]\n",
            "\n",
            " [[0. 0. 0.]\n",
            "  [0. 0. 0.]\n",
            "  [0. 0. 0.]]]\n"
          ]
        }
      ]
    },
    {
      "cell_type": "code",
      "source": [
        "# ones\n",
        "d = np.ones(3)\n",
        "d1 = np.ones([2,2])\n",
        "d2 = np.ones([3,3,3])"
      ],
      "metadata": {
        "id": "v6DzPx4c2DyF"
      },
      "execution_count": 23,
      "outputs": []
    },
    {
      "cell_type": "code",
      "source": [
        "print(d,d1,d2, sep = '\\n')"
      ],
      "metadata": {
        "colab": {
          "base_uri": "https://localhost:8080/"
        },
        "id": "uMIFylyS2Lfl",
        "outputId": "faf22eb1-6ed5-4ef8-a0fc-00c303875701"
      },
      "execution_count": 24,
      "outputs": [
        {
          "output_type": "stream",
          "name": "stdout",
          "text": [
            "[1. 1. 1.]\n",
            "[[1. 1.]\n",
            " [1. 1.]]\n",
            "[[[1. 1. 1.]\n",
            "  [1. 1. 1.]\n",
            "  [1. 1. 1.]]\n",
            "\n",
            " [[1. 1. 1.]\n",
            "  [1. 1. 1.]\n",
            "  [1. 1. 1.]]\n",
            "\n",
            " [[1. 1. 1.]\n",
            "  [1. 1. 1.]\n",
            "  [1. 1. 1.]]]\n"
          ]
        }
      ]
    },
    {
      "cell_type": "code",
      "source": [
        "# full values\n",
        "d3 = np.full((2,2),9,dtype=\"float32\")\n",
        "d3"
      ],
      "metadata": {
        "id": "oBFxfUDK21Il",
        "outputId": "c7cadf8b-9310-4f2b-b0ad-014caab6626d",
        "colab": {
          "base_uri": "https://localhost:8080/"
        }
      },
      "execution_count": 25,
      "outputs": [
        {
          "output_type": "execute_result",
          "data": {
            "text/plain": [
              "array([[9., 9.],\n",
              "       [9., 9.]], dtype=float32)"
            ]
          },
          "metadata": {},
          "execution_count": 25
        }
      ]
    },
    {
      "cell_type": "code",
      "source": [
        "# any other full_like\n",
        "d4 = np.full_like(b,4)\n",
        "d4"
      ],
      "metadata": {
        "id": "8TGkhRLT3P4E",
        "outputId": "694768c3-eb09-47db-f83c-634ff3fde82a",
        "colab": {
          "base_uri": "https://localhost:8080/"
        }
      },
      "execution_count": 26,
      "outputs": [
        {
          "output_type": "execute_result",
          "data": {
            "text/plain": [
              "array([[4, 4, 4, 4, 4, 4, 4],\n",
              "       [4, 4, 4, 4, 4, 4, 4]])"
            ]
          },
          "metadata": {},
          "execution_count": 26
        }
      ]
    },
    {
      "cell_type": "code",
      "source": [
        "# random decimal numbers\n",
        "d5 = np.random.rand(10,10)\n",
        "d5"
      ],
      "metadata": {
        "id": "LMMUlyfC34wc",
        "outputId": "a3b221db-3e1c-4e42-c54a-1a3bd3aae77b",
        "colab": {
          "base_uri": "https://localhost:8080/"
        }
      },
      "execution_count": 27,
      "outputs": [
        {
          "output_type": "execute_result",
          "data": {
            "text/plain": [
              "array([[0.40399409, 0.37742032, 0.61721311, 0.66597364, 0.24184081,\n",
              "        0.70715759, 0.47296053, 0.90217422, 0.22610969, 0.29306582],\n",
              "       [0.46961098, 0.21828394, 0.14522413, 0.23506254, 0.53301319,\n",
              "        0.58026816, 0.63291471, 0.46466164, 0.04775618, 0.27458889],\n",
              "       [0.21337919, 0.13930795, 0.53069349, 0.12760602, 0.20469144,\n",
              "        0.05228289, 0.27069593, 0.98332119, 0.53946051, 0.52978358],\n",
              "       [0.23469368, 0.51247886, 0.39794356, 0.50302829, 0.63211055,\n",
              "        0.0167201 , 0.5412227 , 0.93744904, 0.34433103, 0.9414958 ],\n",
              "       [0.67524561, 0.3959372 , 0.08365414, 0.58035136, 0.60333211,\n",
              "        0.92012033, 0.50077632, 0.83856971, 0.84420867, 0.65526472],\n",
              "       [0.37345862, 0.25714047, 0.73846588, 0.44241514, 0.78566268,\n",
              "        0.53976634, 0.26407204, 0.59810364, 0.9351605 , 0.28320583],\n",
              "       [0.77394509, 0.32532094, 0.73242233, 0.55835376, 0.02069736,\n",
              "        0.9078443 , 0.96566455, 0.40613242, 0.05354663, 0.00289904],\n",
              "       [0.25620317, 0.23639841, 0.04709986, 0.7278089 , 0.39285777,\n",
              "        0.83427203, 0.18152554, 0.94183765, 0.37957319, 0.02390475],\n",
              "       [0.46373642, 0.06969675, 0.71816592, 0.55657067, 0.11525519,\n",
              "        0.78339176, 0.1145817 , 0.84593977, 0.60658113, 0.15058545],\n",
              "       [0.30611385, 0.46343935, 0.18123305, 0.0396973 , 0.34255798,\n",
              "        0.50888022, 0.72386384, 0.72608811, 0.94769768, 0.24128432]])"
            ]
          },
          "metadata": {},
          "execution_count": 27
        }
      ]
    },
    {
      "cell_type": "code",
      "source": [
        "d6 = np.random.randint(10,100,size = (4,4))\n",
        "d6"
      ],
      "metadata": {
        "id": "1bItOR13Lm_y",
        "outputId": "6a899b21-956a-4588-8d1f-d3b71682ec49",
        "colab": {
          "base_uri": "https://localhost:8080/"
        }
      },
      "execution_count": 28,
      "outputs": [
        {
          "output_type": "execute_result",
          "data": {
            "text/plain": [
              "array([[16, 26, 83, 11],\n",
              "       [47, 36, 94, 93],\n",
              "       [20, 19, 47, 92],\n",
              "       [42, 16, 10, 47]])"
            ]
          },
          "metadata": {},
          "execution_count": 28
        }
      ]
    },
    {
      "cell_type": "code",
      "source": [
        "# to create a array with a predefined shape.\n",
        "d7 = np.random.random_sample(a.shape)\n",
        "d7"
      ],
      "metadata": {
        "id": "p8hHNc7tL0Kw",
        "outputId": "5cc9cbb6-09a1-446b-8132-d448f2dd4c23",
        "colab": {
          "base_uri": "https://localhost:8080/"
        }
      },
      "execution_count": 29,
      "outputs": [
        {
          "output_type": "execute_result",
          "data": {
            "text/plain": [
              "array([0.26534069, 0.67387139])"
            ]
          },
          "metadata": {},
          "execution_count": 29
        }
      ]
    },
    {
      "cell_type": "code",
      "source": [
        "# to create an identity matrix\n",
        "d8 = np.identity(3)\n",
        "d8"
      ],
      "metadata": {
        "id": "TSb6c2AGMxLY",
        "outputId": "a7c29eaa-9d1d-4a46-fcdd-cdae471a24c5",
        "colab": {
          "base_uri": "https://localhost:8080/"
        }
      },
      "execution_count": 34,
      "outputs": [
        {
          "output_type": "execute_result",
          "data": {
            "text/plain": [
              "array([[1., 0., 0.],\n",
              "       [0., 1., 0.],\n",
              "       [0., 0., 1.]])"
            ]
          },
          "metadata": {},
          "execution_count": 34
        }
      ]
    },
    {
      "cell_type": "code",
      "source": [
        "# to repeat an array multiple times.\n",
        "arr = np.array([1,2,3])\n",
        "r1 = np.repeat(arr,3,axis = 0)\n",
        "r1"
      ],
      "metadata": {
        "id": "I-zFuGFbZ7xB",
        "outputId": "d1057e14-ee7e-4032-8d9d-5616ea488e12",
        "colab": {
          "base_uri": "https://localhost:8080/"
        }
      },
      "execution_count": 36,
      "outputs": [
        {
          "output_type": "execute_result",
          "data": {
            "text/plain": [
              "array([1, 1, 1, 2, 2, 2, 3, 3, 3])"
            ]
          },
          "metadata": {},
          "execution_count": 36
        }
      ]
    },
    {
      "cell_type": "code",
      "source": [
        "\n",
        "arr = np.array([[1,2,3]])\n",
        "r1 = np.repeat(arr,3,axis = 0)\n",
        "r1"
      ],
      "metadata": {
        "id": "G4NMqjQPaHim",
        "outputId": "e1229c49-1eb6-4cd6-b2db-ae7b31fa65b8",
        "colab": {
          "base_uri": "https://localhost:8080/"
        }
      },
      "execution_count": 39,
      "outputs": [
        {
          "output_type": "execute_result",
          "data": {
            "text/plain": [
              "array([[1, 2, 3],\n",
              "       [1, 2, 3],\n",
              "       [1, 2, 3]])"
            ]
          },
          "metadata": {},
          "execution_count": 39
        }
      ]
    },
    {
      "cell_type": "code",
      "source": [
        "op = np.ones((5,5))\n",
        "op"
      ],
      "metadata": {
        "id": "HHbnbwCBaiEw",
        "outputId": "d50310a1-1089-4beb-8b0e-e01a27648c90",
        "colab": {
          "base_uri": "https://localhost:8080/"
        }
      },
      "execution_count": 40,
      "outputs": [
        {
          "output_type": "execute_result",
          "data": {
            "text/plain": [
              "array([[1., 1., 1., 1., 1.],\n",
              "       [1., 1., 1., 1., 1.],\n",
              "       [1., 1., 1., 1., 1.],\n",
              "       [1., 1., 1., 1., 1.],\n",
              "       [1., 1., 1., 1., 1.]])"
            ]
          },
          "metadata": {},
          "execution_count": 40
        }
      ]
    },
    {
      "cell_type": "code",
      "source": [
        "z = np.zeros((3,3))\n",
        "z"
      ],
      "metadata": {
        "id": "H39bbpneaxil",
        "outputId": "c90406be-b93a-493e-c1d0-77f9de29549a",
        "colab": {
          "base_uri": "https://localhost:8080/"
        }
      },
      "execution_count": 42,
      "outputs": [
        {
          "output_type": "execute_result",
          "data": {
            "text/plain": [
              "array([[0., 0., 0.],\n",
              "       [0., 0., 0.],\n",
              "       [0., 0., 0.]])"
            ]
          },
          "metadata": {},
          "execution_count": 42
        }
      ]
    },
    {
      "cell_type": "code",
      "source": [
        "z[1,1]=9\n",
        "z"
      ],
      "metadata": {
        "id": "o4ETi8qya2c7",
        "outputId": "25099213-5054-48d1-86cc-267b24b1689d",
        "colab": {
          "base_uri": "https://localhost:8080/"
        }
      },
      "execution_count": 44,
      "outputs": [
        {
          "output_type": "execute_result",
          "data": {
            "text/plain": [
              "array([[0., 0., 0.],\n",
              "       [0., 9., 0.],\n",
              "       [0., 0., 0.]])"
            ]
          },
          "metadata": {},
          "execution_count": 44
        }
      ]
    },
    {
      "cell_type": "code",
      "source": [
        "op[1:4,1:4]=z\n",
        "op"
      ],
      "metadata": {
        "id": "G8DYeEZ8a7PD",
        "outputId": "2d5772ab-ad74-4573-ea68-cba4a124f19a",
        "colab": {
          "base_uri": "https://localhost:8080/"
        }
      },
      "execution_count": 47,
      "outputs": [
        {
          "output_type": "execute_result",
          "data": {
            "text/plain": [
              "array([[1., 1., 1., 1., 1.],\n",
              "       [1., 0., 0., 0., 1.],\n",
              "       [1., 0., 9., 0., 1.],\n",
              "       [1., 0., 0., 0., 1.],\n",
              "       [1., 1., 1., 1., 1.]])"
            ]
          },
          "metadata": {},
          "execution_count": 47
        }
      ]
    },
    {
      "cell_type": "markdown",
      "source": [
        "Be careful when copying arrays.\n"
      ],
      "metadata": {
        "id": "FLpoAuYCbIHO"
      }
    },
    {
      "cell_type": "code",
      "source": [
        "e = np.array([1,2,3])\n",
        "f = e\n",
        "print(f,e)\n",
        "f[0] = 100\n"
      ],
      "metadata": {
        "id": "CXuG5zJRbLk0",
        "outputId": "2441c3c4-9901-4f6f-d8d5-0f88b5c094b8",
        "colab": {
          "base_uri": "https://localhost:8080/"
        }
      },
      "execution_count": 51,
      "outputs": [
        {
          "output_type": "stream",
          "name": "stdout",
          "text": [
            "[1 2 3] [1 2 3]\n"
          ]
        }
      ]
    },
    {
      "cell_type": "code",
      "source": [
        "f,e"
      ],
      "metadata": {
        "id": "ArDLCNIObYc0",
        "outputId": "6e4bb2e5-56a7-42b7-ecc6-a24dc0f961a6",
        "colab": {
          "base_uri": "https://localhost:8080/"
        }
      },
      "execution_count": 52,
      "outputs": [
        {
          "output_type": "execute_result",
          "data": {
            "text/plain": [
              "(array([100,   2,   3]), array([100,   2,   3]))"
            ]
          },
          "metadata": {},
          "execution_count": 52
        }
      ]
    },
    {
      "cell_type": "code",
      "source": [
        "e = np.array([1,2,3])\n",
        "f = e.copy()\n",
        "print(f,e)\n",
        "f[0] = 100"
      ],
      "metadata": {
        "id": "C0n-3I_-biHp",
        "outputId": "ca852a98-8a4f-466c-8e59-00df877abb56",
        "colab": {
          "base_uri": "https://localhost:8080/"
        }
      },
      "execution_count": 53,
      "outputs": [
        {
          "output_type": "stream",
          "name": "stdout",
          "text": [
            "[1 2 3] [1 2 3]\n"
          ]
        }
      ]
    },
    {
      "cell_type": "code",
      "source": [
        "f,e"
      ],
      "metadata": {
        "id": "2cLI32Zsblo4",
        "outputId": "407b0159-59b4-4590-ddbd-e8dc8ee0aba2",
        "colab": {
          "base_uri": "https://localhost:8080/"
        }
      },
      "execution_count": 54,
      "outputs": [
        {
          "output_type": "execute_result",
          "data": {
            "text/plain": [
              "(array([100,   2,   3]), array([1, 2, 3]))"
            ]
          },
          "metadata": {},
          "execution_count": 54
        }
      ]
    }
  ]
}