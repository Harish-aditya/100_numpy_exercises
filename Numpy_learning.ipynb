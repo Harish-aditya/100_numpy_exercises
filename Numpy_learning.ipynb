{
  "nbformat": 4,
  "nbformat_minor": 0,
  "metadata": {
    "colab": {
      "provenance": [],
      "authorship_tag": "ABX9TyPrSsDDTgt4mvlc9VBoHgl7",
      "include_colab_link": true
    },
    "kernelspec": {
      "name": "python3",
      "display_name": "Python 3"
    },
    "language_info": {
      "name": "python"
    }
  },
  "cells": [
    {
      "cell_type": "markdown",
      "metadata": {
        "id": "view-in-github",
        "colab_type": "text"
      },
      "source": [
        "<a href=\"https://colab.research.google.com/github/Harish-aditya/100_numpy_exercises/blob/main/Numpy_learning.ipynb\" target=\"_parent\"><img src=\"https://colab.research.google.com/assets/colab-badge.svg\" alt=\"Open In Colab\"/></a>"
      ]
    },
    {
      "cell_type": "code",
      "execution_count": 1,
      "metadata": {
        "id": "esP7pXP-lLbS"
      },
      "outputs": [],
      "source": [
        "import numpy as np"
      ]
    },
    {
      "cell_type": "code",
      "source": [
        "a = np.array([1,2], dtype = 'int16')\n",
        "a"
      ],
      "metadata": {
        "colab": {
          "base_uri": "https://localhost:8080/"
        },
        "id": "5uYd3XPylmxw",
        "outputId": "1cb9bfed-6fdd-4656-eb47-7e17654bc64b"
      },
      "execution_count": 2,
      "outputs": [
        {
          "output_type": "execute_result",
          "data": {
            "text/plain": [
              "array([1, 2], dtype=int16)"
            ]
          },
          "metadata": {},
          "execution_count": 2
        }
      ]
    },
    {
      "cell_type": "code",
      "source": [
        "a2 = np.array([[1,2],[3,4]],dtype = 'int32')\n",
        "a2"
      ],
      "metadata": {
        "colab": {
          "base_uri": "https://localhost:8080/"
        },
        "id": "kqFxdpxalqkw",
        "outputId": "5c51d806-168c-4b77-d469-4b944ff2e8c6"
      },
      "execution_count": 3,
      "outputs": [
        {
          "output_type": "execute_result",
          "data": {
            "text/plain": [
              "array([[1, 2],\n",
              "       [3, 4]], dtype=int32)"
            ]
          },
          "metadata": {},
          "execution_count": 3
        }
      ]
    },
    {
      "cell_type": "code",
      "source": [
        "a3 = np.array([[[1,2],[3,4],[5,6]]],dtype = 'int64')\n",
        "a3"
      ],
      "metadata": {
        "colab": {
          "base_uri": "https://localhost:8080/"
        },
        "id": "dlncXOnKmV3q",
        "outputId": "c8ce0b08-9095-47e7-c91f-4595cd881ae5"
      },
      "execution_count": 4,
      "outputs": [
        {
          "output_type": "execute_result",
          "data": {
            "text/plain": [
              "array([[[1, 2],\n",
              "        [3, 4],\n",
              "        [5, 6]]])"
            ]
          },
          "metadata": {},
          "execution_count": 4
        }
      ]
    },
    {
      "cell_type": "code",
      "source": [
        "# get dimension\n",
        "print(a.ndim,a2.ndim,a3.ndim)"
      ],
      "metadata": {
        "colab": {
          "base_uri": "https://localhost:8080/"
        },
        "id": "qJrho2jBmkqw",
        "outputId": "cce3605d-150c-4c08-edee-d485ee213044"
      },
      "execution_count": 5,
      "outputs": [
        {
          "output_type": "stream",
          "name": "stdout",
          "text": [
            "1 2 3\n"
          ]
        }
      ]
    },
    {
      "cell_type": "code",
      "source": [
        "# get shape\n",
        "print(a.shape,a2.shape,a3.shape)"
      ],
      "metadata": {
        "colab": {
          "base_uri": "https://localhost:8080/"
        },
        "id": "0zqu-NEtm80J",
        "outputId": "57897c24-6179-4bb3-e1ae-dd560f5a98fb"
      },
      "execution_count": 6,
      "outputs": [
        {
          "output_type": "stream",
          "name": "stdout",
          "text": [
            "(2,) (2, 2) (1, 3, 2)\n"
          ]
        }
      ]
    },
    {
      "cell_type": "code",
      "source": [
        "# get dtype\n",
        "print(a.dtype,a2.dtype,a3.dtype)"
      ],
      "metadata": {
        "colab": {
          "base_uri": "https://localhost:8080/"
        },
        "id": "GlunIpG8nXEp",
        "outputId": "d6a0a0a5-086d-485e-ecfd-6bc8f8126956"
      },
      "execution_count": 7,
      "outputs": [
        {
          "output_type": "stream",
          "name": "stdout",
          "text": [
            "int16 int32 int64\n"
          ]
        }
      ]
    },
    {
      "cell_type": "code",
      "source": [
        "# get itemsize\n",
        "print(a.itemsize,a2.itemsize,a3.itemsize)"
      ],
      "metadata": {
        "colab": {
          "base_uri": "https://localhost:8080/"
        },
        "id": "oIAUOsmnn5RB",
        "outputId": "167cddcf-f3e7-4d6e-b0fa-acbdba86da50"
      },
      "execution_count": 8,
      "outputs": [
        {
          "output_type": "stream",
          "name": "stdout",
          "text": [
            "2 4 8\n"
          ]
        }
      ]
    },
    {
      "cell_type": "code",
      "source": [
        "# get total size\n",
        "print(a.size,a2.size,a3.size)"
      ],
      "metadata": {
        "colab": {
          "base_uri": "https://localhost:8080/"
        },
        "id": "fPOlZoOCoJC3",
        "outputId": "ef1fd70e-5112-4fd3-bd20-a6e747a65db2"
      },
      "execution_count": 9,
      "outputs": [
        {
          "output_type": "stream",
          "name": "stdout",
          "text": [
            "2 4 6\n"
          ]
        }
      ]
    },
    {
      "cell_type": "code",
      "source": [
        "# get number of bytes (itemsize*size)\n",
        "print(a.nbytes,a2.nbytes,a3.nbytes)"
      ],
      "metadata": {
        "colab": {
          "base_uri": "https://localhost:8080/"
        },
        "id": "CNJtb-ZspPp_",
        "outputId": "0be3afa1-1d00-43d8-e6c1-3f689c560b79"
      },
      "execution_count": 10,
      "outputs": [
        {
          "output_type": "stream",
          "name": "stdout",
          "text": [
            "4 16 48\n"
          ]
        }
      ]
    }
  ]
}