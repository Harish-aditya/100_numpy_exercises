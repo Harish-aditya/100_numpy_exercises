{
  "nbformat": 4,
  "nbformat_minor": 0,
  "metadata": {
    "colab": {
      "provenance": [],
      "include_colab_link": true
    },
    "kernelspec": {
      "name": "python3",
      "display_name": "Python 3"
    },
    "language_info": {
      "name": "python"
    }
  },
  "cells": [
    {
      "cell_type": "markdown",
      "metadata": {
        "id": "view-in-github",
        "colab_type": "text"
      },
      "source": [
        "<a href=\"https://colab.research.google.com/github/Harish-aditya/100_numpy_exercises/blob/main/Numpy_learning.ipynb\" target=\"_parent\"><img src=\"https://colab.research.google.com/assets/colab-badge.svg\" alt=\"Open In Colab\"/></a>"
      ]
    },
    {
      "cell_type": "code",
      "execution_count": 1,
      "metadata": {
        "id": "esP7pXP-lLbS"
      },
      "outputs": [],
      "source": [
        "import numpy as np"
      ]
    },
    {
      "cell_type": "code",
      "source": [
        "a = np.array([1,2], dtype = 'int16')\n",
        "a"
      ],
      "metadata": {
        "colab": {
          "base_uri": "https://localhost:8080/"
        },
        "id": "5uYd3XPylmxw",
        "outputId": "e0a401f1-bbba-4d29-fb35-403da5fd7644"
      },
      "execution_count": 2,
      "outputs": [
        {
          "output_type": "execute_result",
          "data": {
            "text/plain": [
              "array([1, 2], dtype=int16)"
            ]
          },
          "metadata": {},
          "execution_count": 2
        }
      ]
    },
    {
      "cell_type": "code",
      "source": [
        "a2 = np.array([[1,2],[3,4]],dtype = 'int32')\n",
        "a2"
      ],
      "metadata": {
        "colab": {
          "base_uri": "https://localhost:8080/"
        },
        "id": "kqFxdpxalqkw",
        "outputId": "e0ef4ec8-0b77-4426-f36a-a570e7a6ea7f"
      },
      "execution_count": 3,
      "outputs": [
        {
          "output_type": "execute_result",
          "data": {
            "text/plain": [
              "array([[1, 2],\n",
              "       [3, 4]], dtype=int32)"
            ]
          },
          "metadata": {},
          "execution_count": 3
        }
      ]
    },
    {
      "cell_type": "code",
      "source": [
        "a3 = np.array([[[1,2],[3,4],[5,6]]],dtype = 'int64')\n",
        "a3"
      ],
      "metadata": {
        "colab": {
          "base_uri": "https://localhost:8080/"
        },
        "id": "dlncXOnKmV3q",
        "outputId": "4f9817fd-5a99-4d08-9f8d-e53004f90f1d"
      },
      "execution_count": 4,
      "outputs": [
        {
          "output_type": "execute_result",
          "data": {
            "text/plain": [
              "array([[[1, 2],\n",
              "        [3, 4],\n",
              "        [5, 6]]])"
            ]
          },
          "metadata": {},
          "execution_count": 4
        }
      ]
    },
    {
      "cell_type": "code",
      "source": [
        "# get dimension\n",
        "print(a.ndim,a2.ndim,a3.ndim)"
      ],
      "metadata": {
        "colab": {
          "base_uri": "https://localhost:8080/"
        },
        "id": "qJrho2jBmkqw",
        "outputId": "6f95973b-5871-4588-dda9-1a68745864d4"
      },
      "execution_count": 5,
      "outputs": [
        {
          "output_type": "stream",
          "name": "stdout",
          "text": [
            "1 2 3\n"
          ]
        }
      ]
    },
    {
      "cell_type": "code",
      "source": [
        "# get shape\n",
        "print(a.shape,a2.shape,a3.shape)"
      ],
      "metadata": {
        "colab": {
          "base_uri": "https://localhost:8080/"
        },
        "id": "0zqu-NEtm80J",
        "outputId": "56f99956-ccc8-49dc-8951-7b32626520bf"
      },
      "execution_count": 6,
      "outputs": [
        {
          "output_type": "stream",
          "name": "stdout",
          "text": [
            "(2,) (2, 2) (1, 3, 2)\n"
          ]
        }
      ]
    },
    {
      "cell_type": "code",
      "source": [
        "# get dtype\n",
        "print(a.dtype,a2.dtype,a3.dtype)"
      ],
      "metadata": {
        "colab": {
          "base_uri": "https://localhost:8080/"
        },
        "id": "GlunIpG8nXEp",
        "outputId": "9e1b69ae-bf24-47ba-d67f-cc6351a37421"
      },
      "execution_count": 7,
      "outputs": [
        {
          "output_type": "stream",
          "name": "stdout",
          "text": [
            "int16 int32 int64\n"
          ]
        }
      ]
    },
    {
      "cell_type": "code",
      "source": [
        "# get itemsize\n",
        "print(a.itemsize,a2.itemsize,a3.itemsize)"
      ],
      "metadata": {
        "colab": {
          "base_uri": "https://localhost:8080/"
        },
        "id": "oIAUOsmnn5RB",
        "outputId": "5dbbf4cd-1ab0-416b-ac2c-1b74e305d60f"
      },
      "execution_count": 8,
      "outputs": [
        {
          "output_type": "stream",
          "name": "stdout",
          "text": [
            "2 4 8\n"
          ]
        }
      ]
    },
    {
      "cell_type": "code",
      "source": [
        "# get total size\n",
        "print(a.size,a2.size,a3.size)"
      ],
      "metadata": {
        "colab": {
          "base_uri": "https://localhost:8080/"
        },
        "id": "fPOlZoOCoJC3",
        "outputId": "67fda8bc-c266-4f1a-f0c8-2970c50676f1"
      },
      "execution_count": 9,
      "outputs": [
        {
          "output_type": "stream",
          "name": "stdout",
          "text": [
            "2 4 6\n"
          ]
        }
      ]
    },
    {
      "cell_type": "code",
      "source": [
        "# get number of bytes (itemsize*size)\n",
        "print(a.nbytes,a2.nbytes,a3.nbytes)"
      ],
      "metadata": {
        "colab": {
          "base_uri": "https://localhost:8080/"
        },
        "id": "CNJtb-ZspPp_",
        "outputId": "c0111b6e-62bf-4d81-aac0-2bc3d193a67e"
      },
      "execution_count": 10,
      "outputs": [
        {
          "output_type": "stream",
          "name": "stdout",
          "text": [
            "4 16 48\n"
          ]
        }
      ]
    },
    {
      "cell_type": "markdown",
      "source": [
        "Acessing, changing specific rows, elements, columns. etc.,"
      ],
      "metadata": {
        "id": "uzfLpVeSp15H"
      }
    },
    {
      "cell_type": "code",
      "source": [
        "b = np.array([[1,2,3,4,5,6,7],[8,9,10,11,12,13,14]])\n",
        "b"
      ],
      "metadata": {
        "colab": {
          "base_uri": "https://localhost:8080/"
        },
        "id": "VnrYxPnJq3dA",
        "outputId": "71c3d9b1-7fae-4674-ac3d-6aa3ea8c5bda"
      },
      "execution_count": 11,
      "outputs": [
        {
          "output_type": "execute_result",
          "data": {
            "text/plain": [
              "array([[ 1,  2,  3,  4,  5,  6,  7],\n",
              "       [ 8,  9, 10, 11, 12, 13, 14]])"
            ]
          },
          "metadata": {},
          "execution_count": 11
        }
      ]
    },
    {
      "cell_type": "code",
      "source": [
        "# get a specific element [r,c]\n",
        "b[1,5]"
      ],
      "metadata": {
        "colab": {
          "base_uri": "https://localhost:8080/"
        },
        "id": "QGf6kD7qr6If",
        "outputId": "0fa23363-7c1e-4de0-bb99-3c18dbcd6d75"
      },
      "execution_count": 12,
      "outputs": [
        {
          "output_type": "execute_result",
          "data": {
            "text/plain": [
              "13"
            ]
          },
          "metadata": {},
          "execution_count": 12
        }
      ]
    },
    {
      "cell_type": "code",
      "source": [
        "# get a specific row\n",
        "b[1,:]"
      ],
      "metadata": {
        "colab": {
          "base_uri": "https://localhost:8080/"
        },
        "id": "-i-1DA1HsQ_N",
        "outputId": "e68dd520-32b6-4cc4-84e6-70dce2206340"
      },
      "execution_count": 13,
      "outputs": [
        {
          "output_type": "execute_result",
          "data": {
            "text/plain": [
              "array([ 8,  9, 10, 11, 12, 13, 14])"
            ]
          },
          "metadata": {},
          "execution_count": 13
        }
      ]
    },
    {
      "cell_type": "code",
      "source": [
        "# get a specific column\n",
        "b[:,3]"
      ],
      "metadata": {
        "colab": {
          "base_uri": "https://localhost:8080/"
        },
        "id": "dCzfK36Hsdpt",
        "outputId": "eb38d064-72e9-48f1-8dc8-f11cb8be46eb"
      },
      "execution_count": 14,
      "outputs": [
        {
          "output_type": "execute_result",
          "data": {
            "text/plain": [
              "array([ 4, 11])"
            ]
          },
          "metadata": {},
          "execution_count": 14
        }
      ]
    },
    {
      "cell_type": "code",
      "source": [
        "#skipping index [start:end:step]\n",
        "b[0,1:6:3]"
      ],
      "metadata": {
        "colab": {
          "base_uri": "https://localhost:8080/"
        },
        "id": "FWdnlaTms38d",
        "outputId": "a907190b-74b7-4b75-8c25-21ef9cd91466"
      },
      "execution_count": 15,
      "outputs": [
        {
          "output_type": "execute_result",
          "data": {
            "text/plain": [
              "array([2, 5])"
            ]
          },
          "metadata": {},
          "execution_count": 15
        }
      ]
    },
    {
      "cell_type": "code",
      "source": [
        "#replacing a specific value\n",
        "b[1,5] = 20\n",
        "print(b)"
      ],
      "metadata": {
        "colab": {
          "base_uri": "https://localhost:8080/"
        },
        "id": "7A1bWKrxtnrt",
        "outputId": "40229199-5af3-4d19-f595-e83a30b9efb8"
      },
      "execution_count": 16,
      "outputs": [
        {
          "output_type": "stream",
          "name": "stdout",
          "text": [
            "[[ 1  2  3  4  5  6  7]\n",
            " [ 8  9 10 11 12 20 14]]\n"
          ]
        }
      ]
    },
    {
      "cell_type": "code",
      "source": [
        "# replacing a group of values\n",
        "b[0,4:6]=[1,2]\n",
        "print(b)"
      ],
      "metadata": {
        "colab": {
          "base_uri": "https://localhost:8080/"
        },
        "id": "S27Bvrkrt0Is",
        "outputId": "fb991211-9deb-401d-fafc-0c9a18df7572"
      },
      "execution_count": 17,
      "outputs": [
        {
          "output_type": "stream",
          "name": "stdout",
          "text": [
            "[[ 1  2  3  4  1  2  7]\n",
            " [ 8  9 10 11 12 20 14]]\n"
          ]
        }
      ]
    },
    {
      "cell_type": "code",
      "source": [
        "a3"
      ],
      "metadata": {
        "colab": {
          "base_uri": "https://localhost:8080/"
        },
        "id": "PqZZgO4xKi8n",
        "outputId": "3db8e378-9287-48a9-9a2b-156f55219c03"
      },
      "execution_count": 18,
      "outputs": [
        {
          "output_type": "execute_result",
          "data": {
            "text/plain": [
              "array([[[1, 2],\n",
              "        [3, 4],\n",
              "        [5, 6]]])"
            ]
          },
          "metadata": {},
          "execution_count": 18
        }
      ]
    },
    {
      "cell_type": "code",
      "source": [
        "# 3d array\n",
        "a3.shape"
      ],
      "metadata": {
        "colab": {
          "base_uri": "https://localhost:8080/"
        },
        "id": "sGiCOECXJr9w",
        "outputId": "a89d0af2-aab9-4ad3-fa53-d19ff6f4b1d7"
      },
      "execution_count": 19,
      "outputs": [
        {
          "output_type": "execute_result",
          "data": {
            "text/plain": [
              "(1, 3, 2)"
            ]
          },
          "metadata": {},
          "execution_count": 19
        }
      ]
    },
    {
      "cell_type": "code",
      "source": [
        "# get specific element (work outside in)\n",
        "a3[0,2,0]"
      ],
      "metadata": {
        "colab": {
          "base_uri": "https://localhost:8080/"
        },
        "id": "13JnOl1DKZt4",
        "outputId": "0a224f68-af76-4265-fa73-39e245015be7"
      },
      "execution_count": 20,
      "outputs": [
        {
          "output_type": "execute_result",
          "data": {
            "text/plain": [
              "5"
            ]
          },
          "metadata": {},
          "execution_count": 20
        }
      ]
    },
    {
      "cell_type": "markdown",
      "source": [
        "Initialzing different types of array"
      ],
      "metadata": {
        "id": "IDAmV-M8Lf35"
      }
    },
    {
      "cell_type": "code",
      "source": [
        "# all zeros matrix\n",
        "c = np.zeros(3)\n",
        "c1 = np.zeros([2,2])\n",
        "c2 = np.zeros([3,3,3])"
      ],
      "metadata": {
        "id": "rT_5uqUzLTcn"
      },
      "execution_count": 21,
      "outputs": []
    },
    {
      "cell_type": "code",
      "source": [
        "print(c,c1,c2, sep = '\\n')"
      ],
      "metadata": {
        "id": "7_LcPzjiMBcv",
        "outputId": "11ec8c5f-f768-44a3-b77c-1fbbe54d74b4",
        "colab": {
          "base_uri": "https://localhost:8080/"
        }
      },
      "execution_count": 22,
      "outputs": [
        {
          "output_type": "stream",
          "name": "stdout",
          "text": [
            "[0. 0. 0.]\n",
            "[[0. 0.]\n",
            " [0. 0.]]\n",
            "[[[0. 0. 0.]\n",
            "  [0. 0. 0.]\n",
            "  [0. 0. 0.]]\n",
            "\n",
            " [[0. 0. 0.]\n",
            "  [0. 0. 0.]\n",
            "  [0. 0. 0.]]\n",
            "\n",
            " [[0. 0. 0.]\n",
            "  [0. 0. 0.]\n",
            "  [0. 0. 0.]]]\n"
          ]
        }
      ]
    },
    {
      "cell_type": "code",
      "source": [
        "# ones\n",
        "d = np.ones(3)\n",
        "d1 = np.ones([2,2])\n",
        "d2 = np.ones([3,3,3])"
      ],
      "metadata": {
        "id": "v6DzPx4c2DyF"
      },
      "execution_count": 23,
      "outputs": []
    },
    {
      "cell_type": "code",
      "source": [
        "print(d,d1,d2, sep = '\\n')"
      ],
      "metadata": {
        "colab": {
          "base_uri": "https://localhost:8080/"
        },
        "id": "uMIFylyS2Lfl",
        "outputId": "c2e0561e-a95b-46dc-c581-88991369791f"
      },
      "execution_count": 24,
      "outputs": [
        {
          "output_type": "stream",
          "name": "stdout",
          "text": [
            "[1. 1. 1.]\n",
            "[[1. 1.]\n",
            " [1. 1.]]\n",
            "[[[1. 1. 1.]\n",
            "  [1. 1. 1.]\n",
            "  [1. 1. 1.]]\n",
            "\n",
            " [[1. 1. 1.]\n",
            "  [1. 1. 1.]\n",
            "  [1. 1. 1.]]\n",
            "\n",
            " [[1. 1. 1.]\n",
            "  [1. 1. 1.]\n",
            "  [1. 1. 1.]]]\n"
          ]
        }
      ]
    },
    {
      "cell_type": "code",
      "source": [
        "# full values\n",
        "d3 = np.full((2,2),9,dtype=\"float32\")\n",
        "d3"
      ],
      "metadata": {
        "id": "oBFxfUDK21Il",
        "outputId": "d0572678-e5a6-4c8c-8fc5-42b8ee3ddaab",
        "colab": {
          "base_uri": "https://localhost:8080/"
        }
      },
      "execution_count": 27,
      "outputs": [
        {
          "output_type": "execute_result",
          "data": {
            "text/plain": [
              "array([[9., 9.],\n",
              "       [9., 9.]], dtype=float32)"
            ]
          },
          "metadata": {},
          "execution_count": 27
        }
      ]
    },
    {
      "cell_type": "code",
      "source": [
        "# any other full_like\n",
        "d4 = np.full_like(b,4)\n",
        "d4"
      ],
      "metadata": {
        "id": "8TGkhRLT3P4E",
        "outputId": "30a1dea7-b896-4aeb-b9d4-ffdde908d559",
        "colab": {
          "base_uri": "https://localhost:8080/"
        }
      },
      "execution_count": 30,
      "outputs": [
        {
          "output_type": "execute_result",
          "data": {
            "text/plain": [
              "array([[4, 4, 4, 4, 4, 4, 4],\n",
              "       [4, 4, 4, 4, 4, 4, 4]])"
            ]
          },
          "metadata": {},
          "execution_count": 30
        }
      ]
    },
    {
      "cell_type": "code",
      "source": [
        "# random decimal numbers\n",
        "d5 = np.random.rand(10,10)\n",
        "d5"
      ],
      "metadata": {
        "id": "LMMUlyfC34wc",
        "outputId": "90a5adeb-5bf0-4e25-d752-36facec27090",
        "colab": {
          "base_uri": "https://localhost:8080/"
        }
      },
      "execution_count": 38,
      "outputs": [
        {
          "output_type": "execute_result",
          "data": {
            "text/plain": [
              "array([[0.8998018 , 0.34615063, 0.92667243, 0.37384809, 0.11432602,\n",
              "        0.64752828, 0.50619941, 0.65018868, 0.58540374, 0.05633983],\n",
              "       [0.7450565 , 0.03518604, 0.9672945 , 0.63606112, 0.30159286,\n",
              "        0.97695454, 0.53431805, 0.40584482, 0.91510425, 0.73880904],\n",
              "       [0.17442972, 0.85729664, 0.5781111 , 0.219402  , 0.27573478,\n",
              "        0.33131898, 0.64885378, 0.2893561 , 0.12162071, 0.56295659],\n",
              "       [0.92917455, 0.85789223, 0.96374584, 0.52151808, 0.91301197,\n",
              "        0.51791513, 0.57478443, 0.71112544, 0.66412583, 0.7758393 ],\n",
              "       [0.24733401, 0.71630912, 0.40030108, 0.82165134, 0.50690612,\n",
              "        0.52127337, 0.58212476, 0.11949994, 0.27450754, 0.88645794],\n",
              "       [0.12091717, 0.03931791, 0.87148479, 0.90073276, 0.9821132 ,\n",
              "        0.80528013, 0.2955074 , 0.65562294, 0.47405706, 0.29829795],\n",
              "       [0.49363384, 0.9306858 , 0.53964999, 0.74962978, 0.22251518,\n",
              "        0.57174675, 0.71206806, 0.88624505, 0.60549696, 0.74854749],\n",
              "       [0.74886609, 0.4494633 , 0.9138376 , 0.59603414, 0.94376321,\n",
              "        0.34222261, 0.88482418, 0.5838986 , 0.87905988, 0.34829378],\n",
              "       [0.83287298, 0.8499931 , 0.65200488, 0.31274305, 0.92869293,\n",
              "        0.39683643, 0.29368765, 0.15897459, 0.00616209, 0.20005995],\n",
              "       [0.45294549, 0.62090558, 0.60832772, 0.10536127, 0.22144808,\n",
              "        0.33929546, 0.32673524, 0.77183036, 0.58015847, 0.80597994]])"
            ]
          },
          "metadata": {},
          "execution_count": 38
        }
      ]
    }
  ]
}